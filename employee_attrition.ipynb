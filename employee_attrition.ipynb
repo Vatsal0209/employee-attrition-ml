{
 "cells": [
  {
   "cell_type": "code",
   "execution_count": 2,
   "id": "25e8a697-15b0-40dc-80f4-5b4a08ae31c4",
   "metadata": {},
   "outputs": [],
   "source": [
    "import pandas as pd\n",
    "import numpy as np\n",
    "from sklearn.model_selection import train_test_split\n",
    "from sklearn.preprocessing import LabelEncoder, StandardScaler\n",
    "from sklearn.linear_model import LogisticRegression\n",
    "from sklearn.neighbors import KNeighborsClassifier\n",
    "from sklearn.svm import SVC\n",
    "from sklearn.metrics import classification_report"
   ]
  },
  {
   "cell_type": "code",
   "execution_count": 6,
   "id": "30c7d168-071d-4e22-9b3f-747585d9b0ea",
   "metadata": {},
   "outputs": [],
   "source": [
    "# Load dataset\n",
    "df = pd.read_csv(\"Employee Attrition.csv\")  # Change file path if needed"
   ]
  },
  {
   "cell_type": "code",
   "execution_count": 8,
   "id": "55c93e4e-e6bf-4a0b-bd53-73a6eb8840dc",
   "metadata": {},
   "outputs": [],
   "source": [
    "# Drop irrelevant columns\n",
    "df.drop(columns=[\"EmployeeNumber\", \"Over18\", \"StandardHours\", \"EmployeeCount\"], inplace=True)"
   ]
  },
  {
   "cell_type": "code",
   "execution_count": 10,
   "id": "2d6bbb1f-326c-4e04-8491-8276fc9a4ab5",
   "metadata": {},
   "outputs": [],
   "source": [
    "# Encode categorical variables\n",
    "label_encoders = {}\n",
    "for col in df.select_dtypes(include=['object']).columns:\n",
    "    le = LabelEncoder()\n",
    "    df[col] = le.fit_transform(df[col])\n",
    "    label_encoders[col] = le"
   ]
  },
  {
   "cell_type": "code",
   "execution_count": 12,
   "id": "5849be7e-ec43-4375-bc2a-165d20d58d41",
   "metadata": {},
   "outputs": [],
   "source": [
    "# Define target variable and selected independent variables\n",
    "selected_features = [\n",
    "    \"OverTime\", \"MonthlyIncome\", \"YearsAtCompany\", \"YearsInCurrentRole\",\n",
    "    \"YearsWithCurrManager\", \"TotalWorkingYears\", \"JobSatisfaction\",\n",
    "    \"EnvironmentSatisfaction\", \"DistanceFromHome\", \"WorkLifeBalance\"\n",
    "]"
   ]
  },
  {
   "cell_type": "code",
   "execution_count": 14,
   "id": "202f4274-ea1d-4d13-9e0a-a7a2deb6e782",
   "metadata": {},
   "outputs": [],
   "source": [
    "X = df[selected_features]  # Independent variables\n",
    "y = df[\"Attrition\"]  # Dependent variable"
   ]
  },
  {
   "cell_type": "code",
   "execution_count": 16,
   "id": "3f2edef3-9396-4eca-b24d-1d43d85bfca3",
   "metadata": {},
   "outputs": [],
   "source": [
    "# Standardize numerical features\n",
    "scaler = StandardScaler()\n",
    "X_scaled = scaler.fit_transform(X)"
   ]
  },
  {
   "cell_type": "code",
   "execution_count": 18,
   "id": "8561d4da-1e98-451a-9dcc-c6d1735efb3c",
   "metadata": {},
   "outputs": [],
   "source": [
    "# Split dataset into training (80%) and testing (20%)\n",
    "X_train, X_test, y_train, y_test = train_test_split(X_scaled, y, test_size=0.2, random_state=42)"
   ]
  },
  {
   "cell_type": "code",
   "execution_count": 20,
   "id": "44e7db20-3f83-48f2-a586-2d92c4418343",
   "metadata": {},
   "outputs": [],
   "source": [
    "# Train and evaluate models\n",
    "models = {\n",
    "    \"Logistic Regression\": LogisticRegression(),\n",
    "    \"k-Nearest Neighbors\": KNeighborsClassifier(n_neighbors=5),\n",
    "    \"Support Vector Classifier\": SVC(kernel='linear', probability=True)\n",
    "}"
   ]
  },
  {
   "cell_type": "code",
   "execution_count": 22,
   "id": "fb5e7abe-f1c3-4f69-bcb2-583815102c07",
   "metadata": {},
   "outputs": [
    {
     "name": "stdout",
     "output_type": "stream",
     "text": [
      "\n",
      "🔹 Classification Report for Logistic Regression 🔹\n",
      "              precision    recall  f1-score   support\n",
      "\n",
      "           0       0.87      0.98      0.92       255\n",
      "           1       0.38      0.08      0.13        39\n",
      "\n",
      "    accuracy                           0.86       294\n",
      "   macro avg       0.62      0.53      0.53       294\n",
      "weighted avg       0.81      0.86      0.82       294\n",
      "\n",
      "\n",
      "🔹 Classification Report for k-Nearest Neighbors 🔹\n",
      "              precision    recall  f1-score   support\n",
      "\n",
      "           0       0.87      0.95      0.91       255\n",
      "           1       0.25      0.10      0.15        39\n",
      "\n",
      "    accuracy                           0.84       294\n",
      "   macro avg       0.56      0.53      0.53       294\n",
      "weighted avg       0.79      0.84      0.81       294\n",
      "\n",
      "\n",
      "🔹 Classification Report for Support Vector Classifier 🔹\n",
      "              precision    recall  f1-score   support\n",
      "\n",
      "           0       0.87      1.00      0.93       255\n",
      "           1       0.00      0.00      0.00        39\n",
      "\n",
      "    accuracy                           0.87       294\n",
      "   macro avg       0.43      0.50      0.46       294\n",
      "weighted avg       0.75      0.87      0.81       294\n",
      "\n"
     ]
    },
    {
     "name": "stderr",
     "output_type": "stream",
     "text": [
      "C:\\Users\\Mallik\\AppData\\Roaming\\Python\\Python311\\site-packages\\sklearn\\metrics\\_classification.py:1509: UndefinedMetricWarning: Precision is ill-defined and being set to 0.0 in labels with no predicted samples. Use `zero_division` parameter to control this behavior.\n",
      "  _warn_prf(average, modifier, f\"{metric.capitalize()} is\", len(result))\n",
      "C:\\Users\\Mallik\\AppData\\Roaming\\Python\\Python311\\site-packages\\sklearn\\metrics\\_classification.py:1509: UndefinedMetricWarning: Precision is ill-defined and being set to 0.0 in labels with no predicted samples. Use `zero_division` parameter to control this behavior.\n",
      "  _warn_prf(average, modifier, f\"{metric.capitalize()} is\", len(result))\n",
      "C:\\Users\\Mallik\\AppData\\Roaming\\Python\\Python311\\site-packages\\sklearn\\metrics\\_classification.py:1509: UndefinedMetricWarning: Precision is ill-defined and being set to 0.0 in labels with no predicted samples. Use `zero_division` parameter to control this behavior.\n",
      "  _warn_prf(average, modifier, f\"{metric.capitalize()} is\", len(result))\n"
     ]
    }
   ],
   "source": [
    "for model_name, model in models.items():\n",
    "    model.fit(X_train, y_train)  # Train model\n",
    "    y_pred = model.predict(X_test)  # Predict on test data\n",
    "    print(f\"\\n🔹 Classification Report for {model_name} 🔹\")\n",
    "    print(classification_report(y_test, y_pred))"
   ]
  }
 ],
 "metadata": {
  "kernelspec": {
   "display_name": "Python 3 (ipykernel)",
   "language": "python",
   "name": "python3"
  },
  "language_info": {
   "codemirror_mode": {
    "name": "ipython",
    "version": 3
   },
   "file_extension": ".py",
   "mimetype": "text/x-python",
   "name": "python",
   "nbconvert_exporter": "python",
   "pygments_lexer": "ipython3",
   "version": "3.11.7"
  }
 },
 "nbformat": 4,
 "nbformat_minor": 5
}
